{
 "cells": [
  {
   "cell_type": "markdown",
   "source": [
    "# Project 1\n",
    "## 1.\n",
    "Objective: $Min \\sum_{t=1}^{T} f_ty_t + \\sum_{t=1}^{T} c_tx_t + \\sum_{t=1}^{T} h_ts_t$\n",
    "\n",
    "Subject to:\n",
    "$d_t = x_t + s_{t-1} - s_t \\qquad \\forall t \\in H$\n",
    "$x_t \\leq D_ty_t \\qquad \\forall t \\in H$\n",
    "\n",
    "$y_t \\in [0,1]$\n",
    "<br>\n",
    "$x_t, s_t \\geq 0$\n",
    "\n",
    "Where:\n",
    "$D_t = \\sum_{i=t}^{T} d_i$\n",
    "$s_0, s_T = 0$"
   ],
   "metadata": {
    "collapsed": false
   }
  },
  {
   "cell_type": "code",
   "execution_count": 81,
   "outputs": [
    {
     "name": "stdout",
     "output_type": "stream",
     "text": [
      "Restricted license - for non-production use only - expires 2025-11-24\n"
     ]
    }
   ],
   "source": [
    "import gurobipy as gp\n",
    "from gurobipy import GRB\n",
    "import numpy as np\n",
    "import matplotlib.pyplot as plt\n",
    "import pandas as pd\n",
    "import time\n",
    "\n",
    "# Import data and define constants\n",
    "\n",
    "T = 12  # Num periods\n",
    "rep = 2  # Tab number\n",
    "\n",
    "tabs = {'6-1': '6-periods (1)',\n",
    "    '6-2': '6-periods (2)',\n",
    "    '12-1': '12-periods (1)',\n",
    "    '12-2': '12-periods (2)',\n",
    "    '24-1': '24-periods (1)',\n",
    "    '24-2': '24-periods (2)',\n",
    "    '52-1': '52-periods (1)',\n",
    "    '52-2': '52-periods (2)',\n",
    "    '104-1': '104-periods (1)',\n",
    "    '104-2': '104-periods (2)'}\n",
    "\n",
    "xls = pd.ExcelFile(r'../ULSP-instancesR.xlsx')\n",
    "\n",
    "df = pd.read_excel(xls, sheet_name=tabs[f'{T}-{rep}'])\n",
    "\n",
    "# Add zero row and adjust index to align with indicies prompt\n",
    "df.loc[-1] = [0]*6\n",
    "df.index = df.index + 1\n",
    "df = df.sort_index()\n",
    "\n",
    "# Constants\n",
    "d = df['Demand Forecast']\n",
    "f = df['Setup Cost']\n",
    "c = df['Production cost']\n",
    "h = df['Holding cost']\n",
    "b = df['Backlogging cost']\n",
    "\n",
    "D = [d[i:].sum() for i in range(len(d))]\n",
    "\n",
    "# Set\n",
    "H = range(1,T+1)\n",
    "H_0 = range(T+1)\n",
    "\n",
    "# Gurobi environment\n",
    "ENV = gp.Env()\n",
    "ENV.setParam('OutputFlag', 0)\n"
   ],
   "metadata": {
    "collapsed": false
   }
  },
  {
   "cell_type": "code",
   "execution_count": 82,
   "outputs": [
    {
     "name": "stdout",
     "output_type": "stream",
     "text": [
      "MILP model without relaxation:\n",
      "x:  [  0. 623. 906.   0. 958. 319.   0. 689. 414. 372. 346.   0. 938.]\n",
      "y:  [0. 1. 1. 0. 1. 1. 0. 1. 1. 1. 1. 0. 1.]\n",
      "s:  [ 0.  0. 71.  0.  0.  0.  0.  0.  0.  0.  0.  0.  0.]\n",
      "total_time:  0.0010554790496826172\n",
      "\n",
      "LP model with relaxation:\n",
      "x:  [  0. 623. 835.  71. 958. 319.   0. 689. 414. 372. 346.   0. 938.]\n",
      "y:  [0.         0.11194969 0.16895994 0.01728756 0.23736373 0.10363873\n",
      " 0.         0.24972816 0.2        0.22463768 0.2694704  0.\n",
      " 1.        ]\n",
      "s:  [0. 0. 0. 0. 0. 0. 0. 0. 0. 0. 0. 0. 0.]\n",
      "total_time:  0.0011172294616699219\n"
     ]
    }
   ],
   "source": [
    "def extract_model_vars(x, y, s):\n",
    "    # ---- Extract variable values ----\n",
    "    x_values = np.zeros(len(H_0))\n",
    "    y_values = np.zeros(len(H_0))\n",
    "    s_values = np.zeros(len(H_0))\n",
    "\n",
    "    for t in H:\n",
    "        x_values[t] = x[t].X\n",
    "        y_values[t] = y[t].X\n",
    "        s_values[t] = s[t].X\n",
    "\n",
    "    return x_values, y_values, s_values\n",
    "\n",
    "\n",
    "def inequality_separation(x, y, s):\n",
    "    S = {}\n",
    "    v = {}\n",
    "    Djl = {}\n",
    "    for l in H:\n",
    "        S[l] = set()\n",
    "        for j in range(1,l+1):\n",
    "            Djl[(j,l)] = d[j:l+1].sum()\n",
    "            if x[j] - Djl[(j,l)]*y[j] > 0:\n",
    "                S[l].add(j)\n",
    "        v[l] = sum([x[j] - Djl[(j,l)]*y[j] if j in S[l] else 0]) - s[l] # TODO: confirm, error in problem 5, summation on 3rd line should be j \\in S_l, not t \\in S_l?\n",
    "    return v, S, Djl\n",
    "\n",
    "\n",
    "def run_model(relax=False, isp=False):\n",
    "    start_time = time.time()\n",
    "\n",
    "    # ---- Initiate model ----\n",
    "    model = gp.Model(env=ENV)\n",
    "\n",
    "    # ---- Decision variables ----\n",
    "\n",
    "    # Units produced\n",
    "    x = model.addVars(T+1, vtype=GRB.CONTINUOUS, name='x')\n",
    "\n",
    "    # Whether a lot is made\n",
    "    if relax:\n",
    "        y = model.addVars(T+1, vtype=GRB.CONTINUOUS, name='y')\n",
    "    else:\n",
    "        y = model.addVars(T+1, vtype=GRB.BINARY, name='y')\n",
    "\n",
    "    # Amount held in inventory at end of t\n",
    "    s = model.addVars(T+1, vtype=GRB.CONTINUOUS, name='s')\n",
    "\n",
    "\n",
    "    # ---- Constraints ----\n",
    "\n",
    "    # Initial values\n",
    "    model.addConstr(s[0] == 0)\n",
    "    model.addConstr(x[0] == 0)\n",
    "    model.addConstr(y[0] == 0)\n",
    "\n",
    "    # Material balance\n",
    "    model.addConstrs(int(d[t]) == x[t] + s[t-1] - s[t] for t in H)\n",
    "\n",
    "    # y definition\n",
    "    model.addConstrs(x[t] <= D[t]*y[t] for t in H)\n",
    "\n",
    "\n",
    "    # ---- Objective ----\n",
    "    obj = gp.LinExpr()\n",
    "\n",
    "    for t in H:\n",
    "        obj.addTerms([f[t], c[t], h[t]], [y[t], x[t], s[t]])\n",
    "\n",
    "    model.setObjective(obj, GRB.MINIMIZE)\n",
    "\n",
    "    end_time = time.time()\n",
    "    total_time = end_time - start_time\n",
    "\n",
    "    # ---- Optimize ----\n",
    "    model.optimize()\n",
    "\n",
    "    # ---- Extract values ----\n",
    "    x_values, y_values, s_values = extract_model_vars(x, y, s)\n",
    "\n",
    "    if isp:\n",
    "        if not relax:\n",
    "            print(\"WARNING: isp is only designed to be used when relax=True\")\n",
    "\n",
    "        v, S, Djl = inequality_separation(x_values, y_values, s_values)\n",
    "\n",
    "        count = 0\n",
    "        while max(v.values())>0 and count <= 100:\n",
    "            l_max = max(v.items(), key=lambda x: x[1])[0]\n",
    "            # TODO: question, do I consider all S subsets from l = 0 to l, or just S[l]?\n",
    "            model.addConstrs(gp.quicksum(x[t] for t in S[l]) <= gp.quicksum(Djl[(t,l)]*y[t] for t in S[l]) + s[l] for l in range(1,l_max+1))\n",
    "            model.optimize()\n",
    "            x_values, y_values, s_values = extract_model_vars(x, y, s)\n",
    "\n",
    "            v, S, Djl = inequality_separation(x_values, y_values, s_values)\n",
    "            # print(\"l_max: \", l_max)\n",
    "            # print(\"v: \", v)\n",
    "            # print(\"v_max: \", max(v.items(), key=lambda x: x[1]))\n",
    "            if count == 99:\n",
    "                print(\"WARNING: isp max iterations exceeded\")\n",
    "            count += 1\n",
    "\n",
    "    return x_values, y_values, s_values, total_time\n",
    "\n",
    "def print_model_results(relax, isp):\n",
    "    x_values, y_values, s_values, total_time = run_model(relax=relax, isp=isp)\n",
    "    print(\"x: \", x_values)\n",
    "    print(\"y: \", y_values)\n",
    "    print(\"s: \", s_values)\n",
    "    print(\"total_time: \", total_time)\n",
    "\n",
    "print(\"MILP model without relaxation:\")\n",
    "print_model_results(relax=False, isp=False)\n",
    "\n",
    "print()\n",
    "print(\"LP model with relaxation:\")\n",
    "print_model_results(relax=True, isp=False)"
   ],
   "metadata": {
    "collapsed": false
   }
  },
  {
   "cell_type": "markdown",
   "source": [
    "# 2.\n",
    "Computation times are comparable at around 0.001s for the 6-element dataset and 0.006 for the 104-element dataset. Solutions for production quantities and holding are the same for the 6-element set, but not the 104-element set, although the y variable indicating whether a lot is produced is no longer strictly 0 or 1. If it is 0, no lot is produced, but when a lot is produced, y is a fractional value. This will not affect the production plan, but it will give an artificially lower objective.\n",
    "\n",
    "## TODO: make code that automatically compares all variables for all datasets and gives a summary output?"
   ],
   "metadata": {
    "collapsed": false
   }
  },
  {
   "cell_type": "markdown",
   "source": [
    "# 3.\n",
    " Yes, we could use a heuristic here (i.e. dynamic programming) to get the same result as the MILP. In fact, this would be a good application for the Silver-Meal heuristic, which is similar to (Wagner-Whitin, 1958), except the former calculates cost per unit produced, and (Wagner-Whitin, 1958) looks at the absolute cost to fill the demand in a particular period.\n",
    "\n",
    "## TODO: The question asks to identify a particular pattern?"
   ],
   "metadata": {
    "collapsed": false
   }
  },
  {
   "cell_type": "code",
   "execution_count": 83,
   "outputs": [],
   "source": [
    "# See https://www.youtube.com/watch?v=7vE-gm9qxpk\n",
    "\n",
    "z = np.zeros(T+1)\n",
    "x_ww = np.zeros(T+1)\n",
    "\n",
    "for t in H:\n",
    "    t_t = t\n",
    "    z_t = np.zeros(t+1)\n",
    "    while t_t > 0:\n",
    "\n",
    "        z_t[t_t] = f[t_t]\n",
    "        t_t -= 1\n",
    "\n",
    "    z[t] = min(z_t)\n",
    "\n",
    "# TODO: finish # 3"
   ],
   "metadata": {
    "collapsed": false
   }
  },
  {
   "cell_type": "markdown",
   "source": [
    "# 4.\n",
    "This inequality states that the amount of units produced in any subset of periods must be less than or equal to the demand of those periods plus the ending inventory.\n",
    "Indeed, the constraint for the definition of $y_t$ is:\n",
    "$x_t \\leq D_ty_t \\qquad \\forall t \\in H$\n",
    "\n",
    "If this is the case, then cumulative (i.e. summation of) $x_t$ must also be less than the cumulative $Dy_t$. $s_l$ is defined to be nonnegative, so adding this to the right side does not change the inequality."
   ],
   "metadata": {
    "collapsed": false
   }
  },
  {
   "cell_type": "markdown",
   "source": [
    "# 5."
   ],
   "metadata": {
    "collapsed": false
   }
  },
  {
   "cell_type": "code",
   "execution_count": 84,
   "outputs": [
    {
     "name": "stdout",
     "output_type": "stream",
     "text": [
      "{1: 553.2553459119497, 2: 693.9184540671793, 3: 69.77258339420501, 4: 730.605550049554, 5: 285.93924626380766, 6: 0.0, 7: 516.9372961217832, 8: 331.2, 9: 288.4347826086956, 10: 252.76323987538942, 11: 0.0, 12: 0.0}\n",
      "(4, 730.605550049554)\n"
     ]
    }
   ],
   "source": [
    "x, y, s, _ = run_model(relax=True)\n",
    "v, S, Djl = inequality_separation(x, y, s)\n",
    "\n",
    "\n",
    "print(v)\n",
    "print(max(v.items(), key=lambda x: x[1]))\n"
   ],
   "metadata": {
    "collapsed": false
   }
  },
  {
   "cell_type": "markdown",
   "source": [
    "# 6."
   ],
   "metadata": {
    "collapsed": false
   }
  },
  {
   "cell_type": "code",
   "execution_count": 85,
   "outputs": [
    {
     "name": "stdout",
     "output_type": "stream",
     "text": [
      "x:  [  0. 623. 906.   0. 958. 319.   0. 689. 414. 372. 346.   0. 938.]\n",
      "y:  [0. 1. 1. 0. 1. 1. 0. 1. 1. 1. 1. 0. 1.]\n",
      "s:  [ 0.  0. 71.  0.  0.  0.  0.  0.  0.  0.  0.  0.  0.]\n",
      "total_time:  0.001100301742553711\n"
     ]
    }
   ],
   "source": [
    "print_model_results(relax=True, isp=True)"
   ],
   "metadata": {
    "collapsed": false
   }
  }
 ],
 "metadata": {
  "kernelspec": {
   "display_name": "Python 3",
   "language": "python",
   "name": "python3"
  },
  "language_info": {
   "codemirror_mode": {
    "name": "ipython",
    "version": 2
   },
   "file_extension": ".py",
   "mimetype": "text/x-python",
   "name": "python",
   "nbconvert_exporter": "python",
   "pygments_lexer": "ipython2",
   "version": "2.7.6"
  }
 },
 "nbformat": 4,
 "nbformat_minor": 0
}
