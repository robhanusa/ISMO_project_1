{
 "cells": [
  {
   "cell_type": "markdown",
   "source": [
    "# Project 1\n",
    "## 1.\n",
    "Objective: $Min \\sum_{t=1}^{T} f_ty_t + \\sum_{t=1}^{T} c_tx_t + \\sum_{t=1}^{T} h_ts_t$\n",
    "\n",
    "Subject to:\n",
    "$d_t = x_t + s_{t-1} - s_t \\qquad \\forall t \\in H$\n",
    "$x_t \\leq D_ty_t \\qquad \\forall t \\in H$\n",
    "\n",
    "$y_t \\in [0,1]$\n",
    "<br>\n",
    "$x_t, s_t \\geq 0$\n",
    "\n",
    "Where:\n",
    "$D_t = \\sum_{i=t}^{T} d_i$\n",
    "$s_0, s_T = 0$"
   ],
   "metadata": {
    "collapsed": false
   }
  },
  {
   "cell_type": "code",
   "execution_count": 142,
   "outputs": [
    {
     "name": "stdout",
     "output_type": "stream",
     "text": [
      "Restricted license - for non-production use only - expires 2025-11-24\n"
     ]
    }
   ],
   "source": [
    "import gurobipy as gp\n",
    "from gurobipy import GRB\n",
    "import numpy as np\n",
    "import matplotlib.pyplot as plt\n",
    "import pandas as pd\n",
    "import time\n",
    "\n",
    "# Import data and define constants\n",
    "\n",
    "T = 6  # Num periods\n",
    "rep = 2  # Tab number\n",
    "\n",
    "tabs = {'6-1': '6-periods (1)',\n",
    "    '6-2': '6-periods (2)',\n",
    "    '12-1': '12-periods (1)',\n",
    "    '12-2': '12-periods (2)',\n",
    "    '24-1': '24-periods (1)',\n",
    "    '24-2': '24-periods (2)',\n",
    "    '52-1': '52-periods (1)',\n",
    "    '52-2': '52-periods (2)',\n",
    "    '104-1': '104-periods (1)',\n",
    "    '104-2': '104-periods (2)'}\n",
    "\n",
    "xls = pd.ExcelFile(r'../ULSP-instancesR.xlsx')\n",
    "\n",
    "df = pd.read_excel(xls, sheet_name=tabs[f'{T}-{rep}'])\n",
    "\n",
    "# Add zero row and adjust index to align with indicies prompt\n",
    "df.loc[-1] = [0]*6\n",
    "df.index = df.index + 1\n",
    "df = df.sort_index()\n",
    "\n",
    "# Constants\n",
    "d = df['Demand Forecast']\n",
    "f = df['Setup Cost']\n",
    "c = df['Production cost']\n",
    "h = df['Holding cost']\n",
    "b = df['Backlogging cost']\n",
    "\n",
    "D = [d[i:].sum() for i in range(len(d))]\n",
    "\n",
    "# Set\n",
    "H = range(1,T+1)\n",
    "H_0 = range(T+1)\n",
    "\n",
    "# Gurobi environment\n",
    "ENV = gp.Env()\n",
    "ENV.setParam('OutputFlag', 0)\n"
   ],
   "metadata": {
    "collapsed": false
   }
  },
  {
   "cell_type": "code",
   "execution_count": 143,
   "outputs": [
    {
     "name": "stdout",
     "output_type": "stream",
     "text": [
      "MILP model without relaxation:\n",
      "x:  [   0.  573. 3808.    0.    0.    0.    0.]\n",
      "y:  [0. 1. 1. 0. 0. 0. 0.]\n",
      "s:  [   0.    0. 3275. 2379. 1509.  691.    0.]\n",
      "total_time:  0.004252195358276367\n",
      "\n",
      "LP model with relaxation:\n",
      "x:  [   0.  573. 3808.    0.    0.    0.    0.]\n",
      "y:  [0.         0.13079206 1.         0.         0.         0.\n",
      " 0.        ]\n",
      "s:  [   0.    0. 3275. 2379. 1509.  691.    0.]\n",
      "total_time:  0.0010008811950683594\n"
     ]
    }
   ],
   "source": [
    "def extract_model_vars(x, y, s):\n",
    "    # ---- Extract variable values ----\n",
    "    x_values = np.zeros(len(H_0))\n",
    "    y_values = np.zeros(len(H_0))\n",
    "    s_values = np.zeros(len(H_0))\n",
    "\n",
    "    for t in H:\n",
    "        x_values[t] = x[t].X\n",
    "        y_values[t] = y[t].X\n",
    "        s_values[t] = s[t].X\n",
    "\n",
    "    return x_values, y_values, s_values\n",
    "\n",
    "\n",
    "def inequality_separation(x, y, s):\n",
    "    S = {}\n",
    "    v = {}\n",
    "    Djl = {}\n",
    "    for l in H:\n",
    "        S[l] = set()\n",
    "        for j in range(1,l+1):\n",
    "            Djl[(j,l)] = d[j:l+1].sum()\n",
    "            if x[j] - Djl[(j,l)]*y[j] > 0:\n",
    "                S[l].add(j)\n",
    "        # v[l] = sum([x[j] - Djl[(j,l)]*y[j] for j in range(1,l+1)]) - s[l]\n",
    "        v[l] = sum([x[j] - Djl[(j,l)]*y[j] if j in S[l] else 0]) - s[j] # TODO: confirm, error in problem 5, summation on 3rd line should be j \\in S_l, not t \\in S_l?\n",
    "    return v, S, Djl\n",
    "\n",
    "\n",
    "def run_model(relax=False, isp=False):\n",
    "    start_time = time.time()\n",
    "\n",
    "    # ---- Initiate model ----\n",
    "    model = gp.Model(env=ENV)\n",
    "\n",
    "    # ---- Decision variables ----\n",
    "\n",
    "    # Units produced\n",
    "    x = model.addVars(T+1, vtype=GRB.CONTINUOUS, name='x')\n",
    "\n",
    "    # Whether a lot is made\n",
    "    if relax:\n",
    "        y = model.addVars(T+1, vtype=GRB.CONTINUOUS, name='y')\n",
    "    else:\n",
    "        y = model.addVars(T+1, vtype=GRB.BINARY, name='y')\n",
    "\n",
    "    # Amount held in inventory at end of t\n",
    "    s = model.addVars(T+1, vtype=GRB.CONTINUOUS, name='s')\n",
    "\n",
    "\n",
    "    # ---- Constraints ----\n",
    "\n",
    "    # Initial values\n",
    "    model.addConstr(s[0] == 0)\n",
    "    model.addConstr(x[0] == 0)\n",
    "    model.addConstr(y[0] == 0)\n",
    "\n",
    "    # Material balance\n",
    "    model.addConstrs(int(d[t]) == x[t] + s[t-1] - s[t] for t in H)\n",
    "\n",
    "    # y definition\n",
    "    model.addConstrs(x[t] <= D[t]*y[t] for t in H)\n",
    "\n",
    "\n",
    "    # ---- Objective ----\n",
    "    obj = gp.LinExpr()\n",
    "\n",
    "    for t in H:\n",
    "        obj.addTerms([f[t], c[t], h[t]], [y[t], x[t], s[t]])\n",
    "\n",
    "    model.setObjective(obj, GRB.MINIMIZE)\n",
    "\n",
    "    # ---- Optimize ----\n",
    "    model.optimize()\n",
    "\n",
    "    # ---- Extract values ----\n",
    "    x_values, y_values, s_values = extract_model_vars(x, y, s)\n",
    "\n",
    "    if isp:\n",
    "        if not relax:\n",
    "            print(\"WARNING: isp is only designed to be used when relax=True\")\n",
    "\n",
    "        v, S, Djl = inequality_separation(x_values, y_values, s_values)\n",
    "\n",
    "        count = 0\n",
    "        while max(v.values())>0 and count <= 10000:\n",
    "            # l_max = max(v.items(), key=lambda x: x[1])[0]\n",
    "            # model.addConstrs(gp.quicksum(x[t] for t in S[l]) <= gp.quicksum(Djl[(t,l)]*y[t] for t in S[l]) + s[l]for l in range(1,l_max+1))\n",
    "            print(\"v: \", v)\n",
    "            l = max(v.items(), key=lambda x: x[1])[0]\n",
    "            print(\"l: \", l)\n",
    "            print(\"v_max: \", max(v.items(), key=lambda x: x[1]))\n",
    "            model.addConstr(gp.quicksum(x[t] for t in S[l]) <= gp.quicksum(Djl[(t,l)]*y[t] for t in S[l]) + s[l])\n",
    "            model.optimize()\n",
    "            x_values, y_values, s_values = extract_model_vars(x, y, s)\n",
    "\n",
    "            v, S, Djl = inequality_separation(x_values, y_values, s_values)\n",
    "\n",
    "            print(\"final v: \", v)\n",
    "            print(f\"Count: {count}\")\n",
    "\n",
    "            if count == 9999:\n",
    "                print(\"WARNING: isp max iterations exceeded\")\n",
    "            count += 1\n",
    "\n",
    "    end_time = time.time()\n",
    "    total_time = end_time - start_time\n",
    "\n",
    "    return x_values, y_values, s_values, total_time\n",
    "\n",
    "def print_model_results(relax, isp):\n",
    "    x_values, y_values, s_values, total_time = run_model(relax=relax, isp=isp)\n",
    "    print(\"x: \", x_values)\n",
    "    print(\"y: \", y_values)\n",
    "    print(\"s: \", s_values)\n",
    "    print(\"total_time: \", total_time)\n",
    "\n",
    "print(\"MILP model without relaxation:\")\n",
    "print_model_results(relax=False, isp=False)\n",
    "\n",
    "print()\n",
    "print(\"LP model with relaxation:\")\n",
    "print_model_results(relax=True, isp=False)"
   ],
   "metadata": {
    "collapsed": false
   }
  },
  {
   "cell_type": "markdown",
   "source": [
    "# 2.\n",
    "Computation times are comparable at around 0.001s for the 6-element dataset and 0.006 for the 104-element dataset. Solutions for production quantities and holding are the same for the 6-element set, but not the 104-element set, although the y variable indicating whether a lot is produced is no longer strictly 0 or 1. If it is 0, no lot is produced, but when a lot is produced, y is a fractional value. This will not affect the production plan, but it will give an artificially lower objective."
   ],
   "metadata": {
    "collapsed": false
   }
  },
  {
   "cell_type": "markdown",
   "source": [
    "# 3.\n",
    " Yes, we could use a heuristic here (i.e. dynamic programming) to get the same result as the MILP. In fact, this would be a good application for the Silver-Meal heuristic, which is similar to (Wagner-Whitin, 1958), except the former calculates cost per unit produced, and (Wagner-Whitin, 1958) looks at the absolute cost to fill the demand in a particular period.\n",
    "\n",
    "Pattern: Demand for each period is filled from only one source, i.e. all demand is satisfied by production or inventory, for each period."
   ],
   "metadata": {
    "collapsed": false
   }
  },
  {
   "cell_type": "code",
   "execution_count": 144,
   "outputs": [],
   "source": [
    "# TODO\n",
    "# See https://www.youtube.com/watch?v=7vE-gm9qxpk\n",
    "\n",
    "z = np.zeros(T+1)\n",
    "x_ww = np.zeros(T+1)\n",
    "\n",
    "# Not complete\n",
    "for t in H:\n",
    "    t_t = t\n",
    "    z_t = np.zeros(t+1)\n",
    "    while t_t > 0:\n",
    "\n",
    "        z_t[t_t] = f[t_t]\n",
    "        t_t -= 1\n",
    "\n",
    "    z[t] = min(z_t)\n"
   ],
   "metadata": {
    "collapsed": false
   }
  },
  {
   "cell_type": "markdown",
   "source": [
    "# 4.\n",
    "This inequality states that the amount of units produced in any subset of periods must be less than or equal to the demand of those periods plus the ending inventory.\n",
    "Indeed, the constraint for the definition of $y_t$ is:\n",
    "$x_t \\leq D_ty_t \\qquad \\forall t \\in H$\n",
    "\n",
    "If this is the case, then cumulative (i.e. summation of) $x_t$ must also be less than the cumulative $Dy_t$. $s_l$ is defined to be nonnegative, so adding this to the right side does not change the inequality."
   ],
   "metadata": {
    "collapsed": false
   }
  },
  {
   "cell_type": "markdown",
   "source": [
    "# 5.\n",
    "\n",
    "See inequality_separation() function in cell 3. Example output is shown below."
   ],
   "metadata": {
    "collapsed": false
   }
  },
  {
   "cell_type": "code",
   "execution_count": 145,
   "outputs": [
    {
     "name": "stdout",
     "output_type": "stream",
     "text": [
      "{1: 498.05615156357, 2: 0.0, 3: -2379.0, 4: -1509.0, 5: -691.0, 6: 0.0}\n",
      "(1, 498.05615156357)\n"
     ]
    }
   ],
   "source": [
    "x, y, s, _ = run_model(relax=True)\n",
    "v, S, Djl = inequality_separation(x, y, s)\n",
    "\n",
    "\n",
    "print(v)\n",
    "print(max(v.items(), key=lambda x: x[1]))\n"
   ],
   "metadata": {
    "collapsed": false
   }
  },
  {
   "cell_type": "markdown",
   "source": [
    "# 6.\n",
    "\n",
    "# TODO: Something is wrong, not all y's are binary in all cases"
   ],
   "metadata": {
    "collapsed": false
   }
  },
  {
   "cell_type": "code",
   "execution_count": 146,
   "outputs": [
    {
     "name": "stdout",
     "output_type": "stream",
     "text": [
      "v:  {1: 498.05615156357, 2: 0.0, 3: -2379.0, 4: -1509.0, 5: -691.0, 6: 0.0}\n",
      "l:  1\n",
      "v_max:  (1, 498.05615156357)\n",
      "final v:  {1: 0.0, 2: 0.0, 3: -2379.0, 4: -1509.0, 5: -691.0, 6: 0.0}\n",
      "Count: 0\n",
      "x:  [   0.  573. 3808.    0.    0.    0.    0.]\n",
      "y:  [0. 1. 1. 0. 0. 0. 0.]\n",
      "s:  [   0.    0. 3275. 2379. 1509.  691.    0.]\n",
      "total_time:  0.004004240036010742\n"
     ]
    }
   ],
   "source": [
    "print_model_results(relax=True, isp=True)\n",
    "\n"
   ],
   "metadata": {
    "collapsed": false
   }
  },
  {
   "cell_type": "markdown",
   "source": [
    "# 7.\n",
    "New formulation:\n",
    "\n",
    "$Min \\sum_{t=1}^{T} f_ty_t + \\sum_{t=1}^{T}\\sum_{q=1}^{t} c_qd_tw_{q,t} + \\sum_{t=1}^T\\sum_{q=1}^{t-1}\\sum_{i=q}^{t-1}h_id_tw_{q,t}$\n",
    "<br>\n",
    "(Setup cost + unit production costs + holding cost of inventory)\n",
    "\n",
    "Subject to:\n",
    "$\\sum_{q=1}^{t}w_{q,t} = 1 \\qquad  \\forall t \\in T$     (Ensures demand is met)\n",
    "\n",
    "$w_{q,t} \\leq y_q \\qquad  \\forall q \\in T \\quad \\forall t \\in T$       (Defines y as 1 if any products are produced, 0 if not)\n",
    "<br>\n",
    "$y_t \\geq 0$\n",
    "<br>\n",
    "$0 \\leq w_{q,t} \\leq 1$\n",
    "\n",
    "Where:\n",
    "$T_q = T-q$ (Remaining periods)\n",
    "\n",
    "# 8.\n"
   ],
   "metadata": {
    "collapsed": false
   }
  },
  {
   "cell_type": "code",
   "execution_count": 147,
   "outputs": [
    {
     "name": "stdout",
     "output_type": "stream",
     "text": [
      "w:  [[0. 0. 0. 0. 0. 0. 0.]\n",
      " [0. 1. 0. 0. 0. 0. 0.]\n",
      " [0. 0. 1. 1. 1. 1. 1.]\n",
      " [0. 0. 0. 0. 0. 0. 0.]\n",
      " [0. 0. 0. 0. 0. 0. 0.]\n",
      " [0. 0. 0. 0. 0. 0. 0.]\n",
      " [0. 0. 0. 0. 0. 0. 0.]]\n",
      "y:  [0. 1. 1. 0. 0. 0. 0.]\n",
      "total_time:  0.0029010772705078125\n",
      "units_per_period:  [   0.  573. 3808.    0.    0.    0.    0.]\n"
     ]
    }
   ],
   "source": [
    "# Tq = [T+1-i for i in range(T+1)]\n",
    "\n",
    "def fplr_model(relax=False):\n",
    "\n",
    "    start_time = time.time()\n",
    "\n",
    "    # ---- Initiate model ----\n",
    "    model = gp.Model(env=ENV)\n",
    "\n",
    "    # ---- Decision variables ----\n",
    "\n",
    "    # Units produced\n",
    "    w = model.addVars(T+1, T+1, vtype=GRB.CONTINUOUS, name='w')\n",
    "\n",
    "    # Whether a lot is made\n",
    "    if relax:\n",
    "        y = model.addVars(T+1, vtype=GRB.CONTINUOUS, name='y')\n",
    "    else:\n",
    "        y = model.addVars(T+1, vtype=GRB.BINARY, name='y')\n",
    "\n",
    "\n",
    "    # ---- Constraints ----\n",
    "\n",
    "    # Ensure demand is met\n",
    "    model.addConstrs(gp.quicksum(w[q,t] for q in range(1,t+1)) == 1 for t in H)\n",
    "\n",
    "    # Define setup variable y\n",
    "    # model.addConstrs(gp.quicksum(w[q,t] for t in range(q,T+1)) <= y[q]*Tq[q] for q in H)  # Can use this constraint if y is not relaxed\n",
    "    model.addConstrs(w[q,t] <= y[q] for q in H for t in range(q,T+1))\n",
    "\n",
    "\n",
    "    # ---- Objective ----\n",
    "    obj = gp.LinExpr()\n",
    "\n",
    "    for t in H:\n",
    "        obj.addTerms(f[t], y[t])\n",
    "        for q in range(1,t+1):\n",
    "            obj.addTerms(c[q]*d[t], w[q,t])\n",
    "        # for i in range (1,t):\n",
    "        #     for q in range(1,i+1):\n",
    "        #         obj.addTerms(h[t]*d[i], w[q,i])\n",
    "    for t in range(1,T+1):\n",
    "        for q in range(1,t):\n",
    "            obj.addTerms(h[q:t].sum()*d[t], w[q,t])\n",
    "\n",
    "\n",
    "    model.setObjective(obj, GRB.MINIMIZE)\n",
    "\n",
    "    # ---- Optimize ----\n",
    "    model.optimize()\n",
    "\n",
    "    # ---- Extract variable values ----\n",
    "    w_values = np.zeros((len(H_0),len(H_0)))\n",
    "    y_values = np.zeros(len(H_0))\n",
    "\n",
    "    for q in H:\n",
    "        for t in H:\n",
    "            w_values[q,t] = w[q,t].X\n",
    "        y_values[q] = y[q].X\n",
    "\n",
    "    end_time = time.time()\n",
    "    total_time = end_time - start_time\n",
    "\n",
    "    return w_values, y_values, total_time\n",
    "\n",
    "w_values, y_values, total_time = fplr_model(relax=True)\n",
    "\n",
    "units_per_period = np.zeros(len(H_0))\n",
    "\n",
    "for q in H_0:\n",
    "    units_per_period[q] = np.sum([w_values[q,t]*d[t] for t in H_0])\n",
    "\n",
    "print(\"w: \", w_values)\n",
    "print(\"y: \", y_values)\n",
    "print(\"total_time: \", total_time)\n",
    "print(\"units_per_period: \", units_per_period)\n"
   ],
   "metadata": {
    "collapsed": false
   }
  },
  {
   "cell_type": "markdown",
   "source": [
    "# 9.\n",
    "Objective: $Min \\sum_{t=1}^{T} f_ty_t + \\sum_{t=1}^{T} c_tx_t + \\sum_{t=1}^{T} h_ts_t + \\sum_{t=1}^{T} b_tr_t$\n",
    "\n",
    "Subject to:\n",
    "$d_t = x_t + s_{t-1} - s_t - r_t + r_{t-1} \\qquad \\forall t \\in H$\n",
    "$x_t \\leq D_ty_t \\qquad \\forall t \\in H$\n",
    "\n",
    "$y_t \\in [0,1]$\n",
    "<br>\n",
    "$x_t, s_t, r_t \\geq 0$\n",
    "\n",
    "Where:\n",
    "$D_t = \\sum_{i=t}^{T} d_i$\n",
    "$s_0, s_T, r_0, r_T = 0$"
   ],
   "metadata": {
    "collapsed": false
   }
  },
  {
   "cell_type": "code",
   "execution_count": 148,
   "outputs": [
    {
     "name": "stdout",
     "output_type": "stream",
     "text": [
      "MILP model, with backlog, without relaxation:\n",
      "x:  [   0.  573. 3808.    0.    0.    0.    0.]\n",
      "y:  [0. 1. 1. 0. 0. 0. 0.]\n",
      "s:  [   0.    0. 3275. 2379. 1509.  691.    0.]\n",
      "r:  [0. 0. 0. 0. 0. 0. 0.]\n",
      "total_time:  0.006314277648925781\n",
      "\n",
      "LP model, with backlog, with relaxation:\n",
      "x:  [   0.    0. 4381.    0.    0.    0.    0.]\n",
      "y:  [0.         0.         1.15047269 0.         0.         0.\n",
      " 0.        ]\n",
      "s:  [   0.    0. 3275. 2379. 1509.  691.    0.]\n",
      "r:  [  0. 573.   0.   0.   0.   0.   0.]\n",
      "total_time:  0.0009965896606445312\n"
     ]
    }
   ],
   "source": [
    "def extract_model_vars_backlog(x, y, s, r):\n",
    "    # ---- Extract variable values ----\n",
    "    x_values = np.zeros(len(H_0))\n",
    "    y_values = np.zeros(len(H_0))\n",
    "    s_values = np.zeros(len(H_0))\n",
    "    r_values = np.zeros(len(H_0))\n",
    "\n",
    "    for t in H:\n",
    "        x_values[t] = x[t].X\n",
    "        y_values[t] = y[t].X\n",
    "        s_values[t] = s[t].X\n",
    "        r_values[t] = r[t].X\n",
    "\n",
    "    return x_values, y_values, s_values, r_values\n",
    "\n",
    "\n",
    "def run_model_backlog(relax=False, isp=False):\n",
    "    start_time = time.time()\n",
    "\n",
    "    # ---- Initiate model ----\n",
    "    model = gp.Model(env=ENV)\n",
    "\n",
    "    # ---- Decision variables ----\n",
    "\n",
    "    # Units produced\n",
    "    x = model.addVars(T+1, vtype=GRB.CONTINUOUS, name='x')\n",
    "\n",
    "    # Whether a lot is made\n",
    "    if relax:\n",
    "        y = model.addVars(T+1, vtype=GRB.CONTINUOUS, name='y')\n",
    "    else:\n",
    "        y = model.addVars(T+1, vtype=GRB.BINARY, name='y')\n",
    "\n",
    "    # Amount held in inventory at end of t\n",
    "    s = model.addVars(T+1, vtype=GRB.CONTINUOUS, name='s')\n",
    "\n",
    "    # Backlog at end of t\n",
    "    r = model.addVars(T+1, vtype=GRB.CONTINUOUS, name='r')\n",
    "\n",
    "    # ---- Constraints ----\n",
    "\n",
    "    # Initial values\n",
    "    model.addConstr(s[0] == 0)\n",
    "    model.addConstr(x[0] == 0)\n",
    "    model.addConstr(y[0] == 0)\n",
    "    model.addConstr(r[0] == 0)\n",
    "    model.addConstr(r[T] == 0)\n",
    "\n",
    "    # Material balance\n",
    "    model.addConstrs(int(d[t]) == x[t] + s[t-1] - s[t] + r[t] - r[t-1] for t in H)\n",
    "\n",
    "    # y definition\n",
    "    model.addConstrs(x[t] <= D[t]*y[t] for t in H)\n",
    "\n",
    "\n",
    "    # ---- Objective ----\n",
    "    obj = gp.LinExpr()\n",
    "\n",
    "    for t in H:\n",
    "        obj.addTerms([f[t], c[t], h[t], b[t]], [y[t], x[t], s[t], r[t]])\n",
    "\n",
    "    model.setObjective(obj, GRB.MINIMIZE)\n",
    "\n",
    "    # ---- Optimize ----\n",
    "    model.optimize()\n",
    "\n",
    "    # ---- Extract values ----\n",
    "    x_values, y_values, s_values, r_values = extract_model_vars_backlog(x, y, s, r)\n",
    "\n",
    "    if isp:\n",
    "        if not relax:\n",
    "            print(\"WARNING: isp is only designed to be used when relax=True\")\n",
    "\n",
    "        v, S, Djl = inequality_separation(x_values, y_values, s_values)\n",
    "\n",
    "        count = 0\n",
    "        while max(v.values())>0 and count <= 100:\n",
    "            # l_max = max(v.items(), key=lambda x: x[1])[0]\n",
    "            # model.addConstrs(gp.quicksum(x[t] for t in S[l]) <= gp.quicksum(Djl[(t,l)]*y[t] for t in S[l]) + s[l]for l in range(1,l_max+1))\n",
    "            print(\"v: \", v)\n",
    "            l = max(v.items(), key=lambda x: x[1])[0]\n",
    "            print(\"l: \", l)\n",
    "            print(\"v_max: \", max(v.items(), key=lambda x: x[1]))\n",
    "            model.addConstr(gp.quicksum(x[t] for t in S[l]) <= gp.quicksum(Djl[(t,l)]*y[t] for t in S[l]) + s[l])\n",
    "            model.optimize()\n",
    "            x_values, y_values, s_values = extract_model_vars(x, y, s)\n",
    "\n",
    "            v, S, Djl = inequality_separation(x_values, y_values, s_values)\n",
    "\n",
    "            print(\"final v: \", v)\n",
    "\n",
    "            if count == 99:\n",
    "                print(\"WARNING: isp max iterations exceeded\")\n",
    "            count += 1\n",
    "\n",
    "    end_time = time.time()\n",
    "    total_time = end_time - start_time\n",
    "\n",
    "    return x_values, y_values, s_values, r_values, total_time\n",
    "\n",
    "def print_model_results_backlog(relax, isp):\n",
    "    x_values, y_values, s_values, r_values, total_time = run_model_backlog(relax=relax, isp=isp)\n",
    "    print(\"x: \", x_values)\n",
    "    print(\"y: \", y_values)\n",
    "    print(\"s: \", s_values)\n",
    "    print(\"r: \", r_values)\n",
    "    print(\"total_time: \", total_time)\n",
    "\n",
    "print(\"MILP model, with backlog, without relaxation:\")\n",
    "print_model_results_backlog(relax=False, isp=False)\n",
    "\n",
    "print()\n",
    "print(\"LP model, with backlog, with relaxation:\")\n",
    "print_model_results_backlog(relax=True, isp=False)"
   ],
   "metadata": {
    "collapsed": false
   }
  },
  {
   "cell_type": "markdown",
   "source": [
    "# 10.\n",
    "Pattern: the demand for each period is satisfied by one, and only one, source. Said another way, the demand for each period is satisfied completely by either production, inventory, or the backlog."
   ],
   "metadata": {
    "collapsed": false
   }
  },
  {
   "cell_type": "code",
   "execution_count": 149,
   "outputs": [
    {
     "name": "stdout",
     "output_type": "stream",
     "text": [
      "cost at i=1, j=1: 13134\n",
      "production decision[i] = 1\n",
      "optimal_cost at i = 1: [0, 13134, 0, 0, 0, 0, 0]\n",
      "cost at i=2, j=1: 13137\n",
      "production decision[i] = 1\n",
      "cost at i=2, j=2: 23385\n",
      "optimal_cost at i = 2: [0, 13134, 13137, 0, 0, 0, 0]\n",
      "cost at i=3, j=1: 13144\n",
      "production decision[i] = 1\n",
      "cost at i=3, j=2: 23392\n",
      "cost at i=3, j=3: 94084\n",
      "optimal_cost at i = 3: [0, 13134, 13137, 13144, 0, 0, 0]\n",
      "cost at i=4, j=1: 13147\n",
      "production decision[i] = 1\n",
      "cost at i=4, j=2: 23395\n",
      "cost at i=4, j=3: 94087\n",
      "cost at i=4, j=4: 138350\n",
      "optimal_cost at i = 4: [0, 13134, 13137, 13144, 13147, 0, 0]\n",
      "cost at i=5, j=1: 13149\n",
      "production decision[i] = 1\n",
      "cost at i=5, j=2: 23397\n",
      "cost at i=5, j=3: 94089\n",
      "cost at i=5, j=4: 138352\n",
      "cost at i=5, j=5: 162442\n",
      "optimal_cost at i = 5: [0, 13134, 13137, 13144, 13147, 13149, 0]\n",
      "cost at i=6, j=1: 13153\n",
      "production decision[i] = 1\n",
      "cost at i=6, j=2: 23401\n",
      "cost at i=6, j=3: 94093\n",
      "cost at i=6, j=4: 138356\n",
      "cost at i=6, j=5: 162446\n",
      "cost at i=6, j=6: 115377\n",
      "optimal_cost at i = 6: [0, 13134, 13137, 13144, 13147, 13149, 13153]\n",
      "i: 0\n",
      "schedule: [6]\n",
      "Optimal cost: 13153\n",
      "Optimal production schedule: [6]\n"
     ]
    }
   ],
   "source": [
    "# TODO: not complete yet\n",
    "\n",
    "def calculate_optimal_schedule():\n",
    "\n",
    "    optimal_cost = [0] * (T + 1)\n",
    "    production_decision = [0] * (T + 1)\n",
    "\n",
    "    # Calculate optimal costs\n",
    "    for i in range(1, T + 1):\n",
    "        min_cost = float('inf')\n",
    "        for j in range(1, i + 1):\n",
    "            cost = f[j]+sum([d[k]*c[k] for k in range(j,j+1)]) + sum(h[j:i]) + optimal_cost[j-1]\n",
    "            print(f\"cost at i={i}, j={j}: {cost}\")\n",
    "            if cost < min_cost:\n",
    "                min_cost = cost\n",
    "                production_decision[i] = j\n",
    "                print(f\"production decision[i] = {j}\")\n",
    "        optimal_cost[i] = min_cost\n",
    "        print(f\"optimal_cost at i = {i}: {optimal_cost}\")\n",
    "\n",
    "    # Backtrack to find the optimal production schedule\n",
    "    schedule = []\n",
    "    i = T\n",
    "    while i > 0:\n",
    "        schedule.append(i - production_decision[i] + 1)\n",
    "        i = production_decision[i] - 1\n",
    "        print(f\"i: {i}\")\n",
    "        print(f\"schedule: {schedule}\")\n",
    "\n",
    "    return optimal_cost[T], schedule[::-1]\n",
    "\n",
    "# Calculate optimal schedule\n",
    "cost, schedule = calculate_optimal_schedule()\n",
    "print(\"Optimal cost:\", cost)\n",
    "print(\"Optimal production schedule:\", schedule)\n"
   ],
   "metadata": {
    "collapsed": false
   }
  },
  {
   "cell_type": "code",
   "execution_count": 149,
   "outputs": [],
   "source": [],
   "metadata": {
    "collapsed": false
   }
  }
 ],
 "metadata": {
  "kernelspec": {
   "display_name": "Python 3",
   "language": "python",
   "name": "python3"
  },
  "language_info": {
   "codemirror_mode": {
    "name": "ipython",
    "version": 2
   },
   "file_extension": ".py",
   "mimetype": "text/x-python",
   "name": "python",
   "nbconvert_exporter": "python",
   "pygments_lexer": "ipython2",
   "version": "2.7.6"
  }
 },
 "nbformat": 4,
 "nbformat_minor": 0
}
